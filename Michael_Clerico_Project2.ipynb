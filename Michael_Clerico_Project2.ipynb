{
 "cells": [
  {
   "cell_type": "markdown",
   "metadata": {},
   "source": [
    "# Treasure Hunt Game Notebook\n",
    "\n",
    "## Read and Review Your Starter Code\n",
    "The theme of this project is a popular treasure hunt game in which the player needs to find the treasure before the pirate does. While you will not be developing the entire game, you will write the part of the game that represents the intelligent agent, which is a pirate in this case. The pirate will try to find the optimal path to the treasure using deep Q-learning. \n",
    "\n",
    "You have been provided with two Python classes and this notebook to help you with this assignment. The first class, TreasureMaze.py, represents the environment, which includes a maze object defined as a matrix. The second class, GameExperience.py, stores the episodes – that is, all the states that come in between the initial state and the terminal state. This is later used by the agent for learning by experience, called \"exploration\". This notebook shows how to play a game. Your task is to complete the deep Q-learning implementation for which a skeleton implementation has been provided. The code blocks you will need to complete has #TODO as a header.\n",
    "\n",
    "First, read and review the next few code and instruction blocks to understand the code that you have been given."
   ]
  },
  {
   "cell_type": "code",
   "execution_count": 2,
   "metadata": {},
   "outputs": [
    {
     "name": "stderr",
     "output_type": "stream",
     "text": [
      "Using TensorFlow backend.\n"
     ]
    }
   ],
   "source": [
    "from __future__ import print_function\n",
    "import os, sys, time, datetime, json, random\n",
    "import numpy as np\n",
    "from keras.models import Sequential\n",
    "from keras.layers.core import Dense, Activation\n",
    "from keras.optimizers import SGD , Adam, RMSprop\n",
    "from keras.layers.advanced_activations import PReLU\n",
    "import matplotlib.pyplot as plt\n",
    "from TreasureMaze import TreasureMaze\n",
    "from GameExperience import GameExperience\n",
    "%matplotlib inline"
   ]
  },
  {
   "cell_type": "markdown",
   "metadata": {},
   "source": [
    "The following code block contains an 8x8 matrix that will be used as a maze object:"
   ]
  },
  {
   "cell_type": "code",
   "execution_count": 3,
   "metadata": {},
   "outputs": [],
   "source": [
    "maze = np.array([\n",
    "    [ 1.,  0.,  1.,  1.,  1.,  1.,  1.,  1.],\n",
    "    [ 1.,  0.,  1.,  1.,  1.,  0.,  1.,  1.],\n",
    "    [ 1.,  1.,  1.,  1.,  0.,  1.,  0.,  1.],\n",
    "    [ 1.,  1.,  1.,  0.,  1.,  1.,  1.,  1.],\n",
    "    [ 1.,  1.,  0.,  1.,  1.,  1.,  1.,  1.],\n",
    "    [ 1.,  1.,  1.,  0.,  1.,  0.,  0.,  0.],\n",
    "    [ 1.,  1.,  1.,  0.,  1.,  1.,  1.,  1.],\n",
    "    [ 1.,  1.,  1.,  1.,  0.,  1.,  1.,  1.]\n",
    "])"
   ]
  },
  {
   "cell_type": "markdown",
   "metadata": {},
   "source": [
    "This helper function allows a visual representation of the maze object:"
   ]
  },
  {
   "cell_type": "code",
   "execution_count": 4,
   "metadata": {},
   "outputs": [],
   "source": [
    "def show(qmaze):\n",
    "    plt.grid('on')\n",
    "    nrows, ncols = qmaze.maze.shape\n",
    "    ax = plt.gca()\n",
    "    ax.set_xticks(np.arange(0.5, nrows, 1))\n",
    "    ax.set_yticks(np.arange(0.5, ncols, 1))\n",
    "    ax.set_xticklabels([])\n",
    "    ax.set_yticklabels([])\n",
    "    canvas = np.copy(qmaze.maze)\n",
    "    for row,col in qmaze.visited:\n",
    "        canvas[row,col] = 0.6\n",
    "    pirate_row, pirate_col, _ = qmaze.state\n",
    "    canvas[pirate_row, pirate_col] = 0.3   # pirate cell\n",
    "    canvas[nrows-1, ncols-1] = 0.9 # treasure cell\n",
    "    img = plt.imshow(canvas, interpolation='none', cmap='gray')\n",
    "    return img"
   ]
  },
  {
   "cell_type": "markdown",
   "metadata": {},
   "source": [
    "The pirate agent can move in four directions: left, right, up, and down. \n",
    "\n",
    "While the agent primarily learns by experience through exploitation, often, the agent can choose to explore the environment to find previously undiscovered paths. This is called \"exploration\" and is defined by epsilon. This value is typically a lower value such as 0.1, which means for every ten attempts, the agent will attempt to learn by experience nine times and will randomly explore a new path one time. You are encouraged to try various values for the exploration factor and see how the algorithm performs."
   ]
  },
  {
   "cell_type": "code",
   "execution_count": 5,
   "metadata": {},
   "outputs": [],
   "source": [
    "LEFT = 0\n",
    "UP = 1\n",
    "RIGHT = 2\n",
    "DOWN = 3\n",
    "\n",
    "\n",
    "# Exploration factor\n",
    "epsilon = 0.1\n",
    "\n",
    "# Actions dictionary\n",
    "actions_dict = {\n",
    "    LEFT: 'left',\n",
    "    UP: 'up',\n",
    "    RIGHT: 'right',\n",
    "    DOWN: 'down',\n",
    "}\n",
    "\n",
    "num_actions = len(actions_dict)\n"
   ]
  },
  {
   "cell_type": "markdown",
   "metadata": {},
   "source": [
    "The sample code block and output below show creating a maze object and performing one action (DOWN), which returns the reward. The resulting updated environment is visualized."
   ]
  },
  {
   "cell_type": "code",
   "execution_count": 6,
   "metadata": {},
   "outputs": [
    {
     "name": "stdout",
     "output_type": "stream",
     "text": [
      "reward= -0.04\n"
     ]
    },
    {
     "data": {
      "text/plain": [
       "<matplotlib.image.AxesImage at 0x272bec6ff48>"
      ]
     },
     "execution_count": 6,
     "metadata": {},
     "output_type": "execute_result"
    },
    {
     "data": {
      "image/png": "[encoded data removed]",
      "text/plain": [
       "<Figure size 432x288 with 1 Axes>"
      ]
     },
     "metadata": {
      "needs_background": "light"
     },
     "output_type": "display_data"
    }
   ],
   "source": [
    "qmaze = TreasureMaze(maze)\n",
    "canvas, reward, game_over = qmaze.act(DOWN)\n",
    "print(\"reward=\", reward)\n",
    "show(qmaze)"
   ]
  },
  {
   "cell_type": "markdown",
   "metadata": {},
   "source": [
    "This function simulates a full game based on the provided trained model. The other parameters include the TreasureMaze object and the starting position of the pirate."
   ]
  },
  {
   "cell_type": "code",
   "execution_count": 7,
   "metadata": {},
   "outputs": [],
   "source": [
    "def play_game(model, qmaze, pirate_cell):\n",
    "    qmaze.reset(pirate_cell)\n",
    "    envstate = qmaze.observe()\n",
    "    while True:\n",
    "        prev_envstate = envstate\n",
    "        # get next action\n",
    "        q = model.predict(prev_envstate)\n",
    "        action = np.argmax(q[0])\n",
    "\n",
    "        # apply action, get rewards and new state\n",
    "        envstate, reward, game_status = qmaze.act(action)\n",
    "        if game_status == 'win':\n",
    "            return True\n",
    "        elif game_status == 'lose':\n",
    "            return False"
   ]
  },
  {
   "cell_type": "markdown",
   "metadata": {},
   "source": [
    "This function helps you to determine whether the pirate can win any game at all. If your maze is not well designed, the pirate may not win any game at all. In this case, your training would not yield any result. The provided maze in this notebook ensures that there is a path to win and you can run this method to check."
   ]
  },
  {
   "cell_type": "code",
   "execution_count": 8,
   "metadata": {},
   "outputs": [],
   "source": [
    "def completion_check(model, qmaze):\n",
    "    for cell in qmaze.free_cells:\n",
    "        if not qmaze.valid_actions(cell):\n",
    "            return False\n",
    "        if not play_game(model, qmaze, cell):\n",
    "            return False\n",
    "    return True"
   ]
  },
  {
   "cell_type": "markdown",
   "metadata": {},
   "source": [
    "The code you have been given in this block will build the neural network model. Review the code and note the number of layers, as well as the activation, optimizer, and loss functions that are used to train the model."
   ]
  },
  {
   "cell_type": "code",
   "execution_count": 9,
   "metadata": {},
   "outputs": [],
   "source": [
    "def build_model(maze):\n",
    "    model = Sequential()\n",
    "    model.add(Dense(maze.size, input_shape=(maze.size,)))\n",
    "    model.add(PReLU())\n",
    "    model.add(Dense(maze.size))\n",
    "    model.add(PReLU())\n",
    "    model.add(Dense(num_actions))\n",
    "    model.compile(optimizer='adam', loss='mse')\n",
    "    return model"
   ]
  },
  {
   "cell_type": "markdown",
   "metadata": {},
   "source": [
    "# #TODO: Complete the Q-Training Algorithm Code Block\n",
    "\n",
    "This is your deep Q-learning implementation. The goal of your deep Q-learning implementation is to find the best possible navigation sequence that results in reaching the treasure cell while maximizing the reward. In your implementation, you need to determine the optimal number of epochs to achieve a 100% win rate.\n",
    "\n",
    "You will need to complete the section starting with #pseudocode. The pseudocode has been included for you."
   ]
  },
  {
   "cell_type": "code",
   "execution_count": 10,
   "metadata": {},
   "outputs": [],
   "source": [
    "def qtrain(model, maze, **opt):\n",
    "\n",
    "    # exploration factor\n",
    "    global epsilon \n",
    "\n",
    "    # number of epochs\n",
    "    n_epoch = opt.get('n_epoch', 15000)\n",
    "\n",
    "    # maximum memory to store episodes\n",
    "    max_memory = opt.get('max_memory', 1000)\n",
    "\n",
    "    # maximum data size for training\n",
    "    data_size = opt.get('data_size', 50)\n",
    "\n",
    "    # start time\n",
    "    start_time = datetime.datetime.now()\n",
    "\n",
    "    # Construct environment/game from numpy array: maze (see above)\n",
    "    qmaze = TreasureMaze(maze)\n",
    "\n",
    "    # Initialize experience replay object\n",
    "    experience = GameExperience(model, max_memory=max_memory)\n",
    "\n",
    "    win_history = []   # history of win/lose game\n",
    "    hsize = qmaze.maze.size//2   # history window size\n",
    "    win_rate = 0.0\n",
    "    decayRate = 0.1  # decay for exploration\n",
    "\n",
    "    # pseudocode:\n",
    "    # For each epoch:\n",
    "    #    Agent_cell = randomly select a free cell\n",
    "    #    Reset the maze with agent set to above position\n",
    "    #    Hint: Review the reset method in the TreasureMaze.py class.\n",
    "    #    envstate = Environment.current_state\n",
    "    #    Hint: Review the observe method in the TreasureMaze.py class.\n",
    "    #    While state is not game over:\n",
    "    #        previous_envstate = envstate\n",
    "    #        Action = randomly choose action (left, right, up, down) either by exploration or by exploitation\n",
    "    #        envstate, reward, game_status = qmaze.act(action)\n",
    "    #    Hint: Review the act method in the TreasureMaze.py class.\n",
    "    #        episode = [previous_envstate, action, reward, envstate, game_status]\n",
    "    #        Store episode in Experience replay object\n",
    "    #    Hint: Review the remember method in the GameExperience.py class.\n",
    "    #        Train neural network model and evaluate loss\n",
    "    #    Hint: Call GameExperience.get_data to retrieve training data (input and target) and pass to model.fit method \n",
    "    #          to train the model. You can call model.evaluate to determine loss.\n",
    "    #    If the win rate is above the threshold and your model passes the completion check, that would be your epoch.\n",
    "\n",
    "    for epoch in range(n_epoch):\n",
    "        loss = 0.0\n",
    "        agent_cell = random.choice(qmaze.free_cells)\n",
    "        qmaze.reset(agent_cell)\n",
    "        envstate = qmaze.observe()\n",
    "\n",
    "        game_over = False\n",
    "        n_episodes = 0\n",
    "\n",
    "        while not game_over:\n",
    "            previous_envstate = envstate\n",
    "            valid_actions = qmaze.valid_actions()\n",
    "\n",
    "            if not valid_actions:\n",
    "                break\n",
    "\n",
    "            explore_prob = 1 / (1 + epoch * decayRate)\n",
    "            if explore_prob < epsilon:\n",
    "                action = np.argmax(experience.predict(previous_envstate))\n",
    "            else:\n",
    "                action = random.choice(valid_actions)\n",
    "\n",
    "            envstate, reward, game_status = qmaze.act(action)\n",
    "\n",
    "            episode = [previous_envstate, action, reward, envstate, game_status]\n",
    "            experience.remember(episode)\n",
    "            inputs, targets = experience.get_data(data_size=data_size)\n",
    "            model.fit(inputs, targets, epochs=4, batch_size=16, verbose=0)\n",
    "            loss += model.evaluate(inputs, targets, verbose=0)\n",
    "\n",
    "            n_episodes += 1\n",
    "\n",
    "            if game_status == 'win':\n",
    "                win_history.append(1)\n",
    "                game_over = True\n",
    "            elif game_status == 'lose':\n",
    "                win_history.append(0)\n",
    "                game_over = True\n",
    "\n",
    "        if len(win_history) > hsize:\n",
    "            win_history = win_history[-hsize:]\n",
    "        win_rate = sum(win_history) / len(win_history)\n",
    "\n",
    "        # Print progress\n",
    "        dt = datetime.datetime.now() - start_time\n",
    "        t = format_time(dt.total_seconds())\n",
    "        template = \"Epoch: {:03d}/{:d} | Loss: {:.4f} | Episodes: {:d} | Win count: {:d} | Win rate: {:.3f} | time: {}\"\n",
    "        print(template.format(epoch, n_epoch-1, loss, n_episodes, sum(win_history), win_rate, t))\n",
    "\n",
    "        if win_rate > 0.9:\n",
    "            epsilon = 0.05\n",
    "        if sum(win_history[-hsize:]) == hsize and completion_check(model, qmaze):\n",
    "            print(\"Reached 100%% win rate at epoch: %d\" % (epoch,))\n",
    "            break\n",
    "\n",
    "    # Determine the total time for training\n",
    "    dt = datetime.datetime.now() - start_time\n",
    "    seconds = dt.total_seconds()\n",
    "    t = format_time(seconds)\n",
    "\n",
    "    print(\"n_epoch: %d, max_mem: %d, data: %d, time: %s\" % (epoch, max_memory, data_size, t))\n",
    "    return seconds\n",
    "\n",
    "# This is a small utility for printing readable time strings:\n",
    "def format_time(seconds):\n",
    "    if seconds < 400:\n",
    "        return \"%.1f seconds\" % float(seconds)\n",
    "    elif seconds < 4000:\n",
    "        return \"%.2f minutes\" % (seconds / 60.0)\n",
    "    else:\n",
    "        return \"%.2f hours\" % (seconds / 3600.0)\n"
   ]
  },
  {
   "cell_type": "markdown",
   "metadata": {},
   "source": [
    "## Test Your Model\n",
    "\n",
    "Now we will start testing the deep Q-learning implementation. To begin, select **Cell**, then **Run All** from the menu bar. This will run your notebook. As it runs, you should see output begin to appear beneath the next few cells. The code below creates an instance of TreasureMaze."
   ]
  },
  {
   "cell_type": "code",
   "execution_count": 11,
   "metadata": {},
   "outputs": [
    {
     "data": {
      "text/plain": [
       "<matplotlib.image.AxesImage at 0x272bed34a88>"
      ]
     },
     "execution_count": 11,
     "metadata": {},
     "output_type": "execute_result"
    },
    {
     "data": {
      "image/png": "[encoded data removed]",
      "text/plain": [
       "<Figure size 432x288 with 1 Axes>"
      ]
     },
     "metadata": {
      "needs_background": "light"
     },
     "output_type": "display_data"
    }
   ],
   "source": [
    "qmaze = TreasureMaze(maze)\n",
    "show(qmaze)"
   ]
  },
  {
   "cell_type": "markdown",
   "metadata": {},
   "source": [
    "In the next code block, you will build your model and train it using deep Q-learning. Note: This step takes several minutes to fully run."
   ]
  },
  {
   "cell_type": "code",
   "execution_count": 12,
   "metadata": {},
   "outputs": [
    {
     "name": "stdout",
     "output_type": "stream",
     "text": [
      "Epoch: 000/14999 | Loss: 0.1631 | Episodes: 2 | Win count: 1 | Win rate: 1.000 | time: 2.7 seconds\n",
      "Epoch: 001/14999 | Loss: 0.6866 | Episodes: 154 | Win count: 1 | Win rate: 0.500 | time: 23.2 seconds\n",
      "Epoch: 002/14999 | Loss: 0.1282 | Episodes: 61 | Win count: 2 | Win rate: 0.667 | time: 32.5 seconds\n",
      "Epoch: 003/14999 | Loss: 0.1214 | Episodes: 28 | Win count: 3 | Win rate: 0.750 | time: 36.7 seconds\n",
      "Epoch: 004/14999 | Loss: 0.3003 | Episodes: 115 | Win count: 4 | Win rate: 0.800 | time: 52.7 seconds\n",
      "Epoch: 005/14999 | Loss: 0.2982 | Episodes: 139 | Win count: 4 | Win rate: 0.667 | time: 72.4 seconds\n",
      "Epoch: 006/14999 | Loss: 0.2005 | Episodes: 140 | Win count: 4 | Win rate: 0.571 | time: 91.9 seconds\n",
      "Epoch: 007/14999 | Loss: 0.0017 | Episodes: 1 | Win count: 5 | Win rate: 0.625 | time: 92.2 seconds\n",
      "Epoch: 008/14999 | Loss: 0.0060 | Episodes: 5 | Win count: 6 | Win rate: 0.667 | time: 93.0 seconds\n",
      "Epoch: 009/14999 | Loss: 0.1830 | Episodes: 150 | Win count: 6 | Win rate: 0.600 | time: 114.4 seconds\n",
      "Epoch: 010/14999 | Loss: 0.1373 | Episodes: 142 | Win count: 6 | Win rate: 0.545 | time: 134.5 seconds\n",
      "Epoch: 011/14999 | Loss: 0.1717 | Episodes: 150 | Win count: 6 | Win rate: 0.500 | time: 154.8 seconds\n",
      "Epoch: 012/14999 | Loss: 0.2104 | Episodes: 156 | Win count: 6 | Win rate: 0.462 | time: 175.7 seconds\n",
      "Epoch: 013/14999 | Loss: 0.2114 | Episodes: 145 | Win count: 6 | Win rate: 0.429 | time: 194.6 seconds\n",
      "Epoch: 014/14999 | Loss: 0.0200 | Episodes: 15 | Win count: 7 | Win rate: 0.467 | time: 196.9 seconds\n",
      "Epoch: 015/14999 | Loss: 0.3063 | Episodes: 146 | Win count: 7 | Win rate: 0.438 | time: 217.1 seconds\n",
      "Epoch: 016/14999 | Loss: 0.2066 | Episodes: 128 | Win count: 8 | Win rate: 0.471 | time: 234.8 seconds\n",
      "Epoch: 017/14999 | Loss: 0.1926 | Episodes: 144 | Win count: 8 | Win rate: 0.444 | time: 255.6 seconds\n",
      "Epoch: 018/14999 | Loss: 0.0282 | Episodes: 22 | Win count: 9 | Win rate: 0.474 | time: 258.7 seconds\n",
      "Epoch: 019/14999 | Loss: 0.2046 | Episodes: 150 | Win count: 9 | Win rate: 0.450 | time: 281.2 seconds\n",
      "Epoch: 020/14999 | Loss: 0.2115 | Episodes: 153 | Win count: 9 | Win rate: 0.429 | time: 302.1 seconds\n",
      "Epoch: 021/14999 | Loss: 0.1972 | Episodes: 149 | Win count: 9 | Win rate: 0.409 | time: 322.6 seconds\n",
      "Epoch: 022/14999 | Loss: 0.2046 | Episodes: 149 | Win count: 9 | Win rate: 0.391 | time: 344.7 seconds\n",
      "Epoch: 023/14999 | Loss: 0.2126 | Episodes: 150 | Win count: 9 | Win rate: 0.375 | time: 364.7 seconds\n",
      "Epoch: 024/14999 | Loss: 0.2323 | Episodes: 160 | Win count: 9 | Win rate: 0.360 | time: 387.6 seconds\n",
      "Epoch: 025/14999 | Loss: 0.2427 | Episodes: 148 | Win count: 9 | Win rate: 0.346 | time: 6.82 minutes\n",
      "Epoch: 026/14999 | Loss: 0.2261 | Episodes: 148 | Win count: 9 | Win rate: 0.333 | time: 7.17 minutes\n",
      "Epoch: 027/14999 | Loss: 0.2158 | Episodes: 151 | Win count: 9 | Win rate: 0.321 | time: 7.50 minutes\n",
      "Epoch: 028/14999 | Loss: 0.0291 | Episodes: 20 | Win count: 10 | Win rate: 0.345 | time: 7.55 minutes\n",
      "Epoch: 029/14999 | Loss: 0.2615 | Episodes: 150 | Win count: 10 | Win rate: 0.333 | time: 7.89 minutes\n",
      "Epoch: 030/14999 | Loss: 0.2348 | Episodes: 145 | Win count: 10 | Win rate: 0.323 | time: 8.21 minutes\n",
      "Epoch: 031/14999 | Loss: 0.1853 | Episodes: 139 | Win count: 10 | Win rate: 0.312 | time: 8.54 minutes\n",
      "Epoch: 032/14999 | Loss: 0.1782 | Episodes: 139 | Win count: 9 | Win rate: 0.281 | time: 8.86 minutes\n",
      "Epoch: 033/14999 | Loss: 0.1457 | Episodes: 145 | Win count: 9 | Win rate: 0.281 | time: 9.21 minutes\n",
      "Epoch: 034/14999 | Loss: 0.1499 | Episodes: 150 | Win count: 8 | Win rate: 0.250 | time: 9.56 minutes\n",
      "Epoch: 035/14999 | Loss: 0.0502 | Episodes: 33 | Win count: 8 | Win rate: 0.250 | time: 9.64 minutes\n",
      "Epoch: 036/14999 | Loss: 0.2911 | Episodes: 155 | Win count: 7 | Win rate: 0.219 | time: 10.01 minutes\n",
      "Epoch: 037/14999 | Loss: 0.2617 | Episodes: 154 | Win count: 7 | Win rate: 0.219 | time: 10.37 minutes\n",
      "Epoch: 038/14999 | Loss: 0.2476 | Episodes: 151 | Win count: 7 | Win rate: 0.219 | time: 10.73 minutes\n",
      "Epoch: 039/14999 | Loss: 0.1117 | Episodes: 74 | Win count: 7 | Win rate: 0.219 | time: 10.90 minutes\n",
      "Epoch: 040/14999 | Loss: 0.2431 | Episodes: 155 | Win count: 6 | Win rate: 0.188 | time: 11.28 minutes\n",
      "Epoch: 041/14999 | Loss: 0.2313 | Episodes: 151 | Win count: 6 | Win rate: 0.188 | time: 11.63 minutes\n",
      "Epoch: 042/14999 | Loss: 0.2311 | Episodes: 146 | Win count: 6 | Win rate: 0.188 | time: 11.98 minutes\n",
      "Epoch: 043/14999 | Loss: 0.0973 | Episodes: 64 | Win count: 7 | Win rate: 0.219 | time: 12.14 minutes\n",
      "Epoch: 044/14999 | Loss: 0.1882 | Episodes: 129 | Win count: 8 | Win rate: 0.250 | time: 12.44 minutes\n",
      "Epoch: 045/14999 | Loss: 0.2086 | Episodes: 145 | Win count: 8 | Win rate: 0.250 | time: 12.78 minutes\n",
      "Epoch: 046/14999 | Loss: 0.1793 | Episodes: 141 | Win count: 7 | Win rate: 0.219 | time: 13.10 minutes\n",
      "Epoch: 047/14999 | Loss: 0.1587 | Episodes: 141 | Win count: 7 | Win rate: 0.219 | time: 13.44 minutes\n",
      "Epoch: 048/14999 | Loss: 0.1471 | Episodes: 150 | Win count: 6 | Win rate: 0.188 | time: 13.81 minutes\n",
      "Epoch: 049/14999 | Loss: 0.1578 | Episodes: 150 | Win count: 6 | Win rate: 0.188 | time: 14.17 minutes\n",
      "Epoch: 050/14999 | Loss: 0.1529 | Episodes: 142 | Win count: 5 | Win rate: 0.156 | time: 14.51 minutes\n",
      "Epoch: 051/14999 | Loss: 0.1706 | Episodes: 145 | Win count: 5 | Win rate: 0.156 | time: 14.83 minutes\n",
      "Epoch: 052/14999 | Loss: 0.1803 | Episodes: 150 | Win count: 5 | Win rate: 0.156 | time: 15.19 minutes\n",
      "Epoch: 053/14999 | Loss: 0.2146 | Episodes: 161 | Win count: 5 | Win rate: 0.156 | time: 15.57 minutes\n",
      "Epoch: 054/14999 | Loss: 0.0014 | Episodes: 1 | Win count: 6 | Win rate: 0.188 | time: 15.57 minutes\n",
      "Epoch: 055/14999 | Loss: 0.2106 | Episodes: 145 | Win count: 6 | Win rate: 0.188 | time: 15.92 minutes\n",
      "Epoch: 056/14999 | Loss: 0.2226 | Episodes: 150 | Win count: 6 | Win rate: 0.188 | time: 16.27 minutes\n",
      "Epoch: 057/14999 | Loss: 0.2283 | Episodes: 150 | Win count: 6 | Win rate: 0.188 | time: 16.63 minutes\n",
      "Epoch: 058/14999 | Loss: 0.2047 | Episodes: 151 | Win count: 6 | Win rate: 0.188 | time: 16.99 minutes\n",
      "Epoch: 059/14999 | Loss: 0.1885 | Episodes: 139 | Win count: 6 | Win rate: 0.188 | time: 17.30 minutes\n",
      "Epoch: 060/14999 | Loss: 0.1914 | Episodes: 153 | Win count: 5 | Win rate: 0.156 | time: 17.64 minutes\n",
      "Epoch: 061/14999 | Loss: 0.1843 | Episodes: 139 | Win count: 5 | Win rate: 0.156 | time: 17.95 minutes\n",
      "Epoch: 062/14999 | Loss: 0.1745 | Episodes: 150 | Win count: 5 | Win rate: 0.156 | time: 18.27 minutes\n",
      "Epoch: 063/14999 | Loss: 0.0180 | Episodes: 13 | Win count: 6 | Win rate: 0.188 | time: 18.31 minutes\n",
      "Epoch: 064/14999 | Loss: 0.2083 | Episodes: 153 | Win count: 6 | Win rate: 0.188 | time: 18.67 minutes\n",
      "Epoch: 065/14999 | Loss: 0.2217 | Episodes: 155 | Win count: 6 | Win rate: 0.188 | time: 19.04 minutes\n",
      "Epoch: 066/14999 | Loss: 0.2204 | Episodes: 144 | Win count: 6 | Win rate: 0.188 | time: 19.38 minutes\n",
      "Epoch: 067/14999 | Loss: 0.0636 | Episodes: 45 | Win count: 6 | Win rate: 0.188 | time: 19.48 minutes\n",
      "Epoch: 068/14999 | Loss: 0.2038 | Episodes: 144 | Win count: 6 | Win rate: 0.188 | time: 19.84 minutes\n",
      "Epoch: 069/14999 | Loss: 0.1772 | Episodes: 145 | Win count: 6 | Win rate: 0.188 | time: 20.18 minutes\n",
      "Epoch: 070/14999 | Loss: 0.2075 | Episodes: 148 | Win count: 6 | Win rate: 0.188 | time: 20.54 minutes\n",
      "Epoch: 071/14999 | Loss: 0.1929 | Episodes: 157 | Win count: 5 | Win rate: 0.156 | time: 20.90 minutes\n",
      "Epoch: 072/14999 | Loss: 0.0022 | Episodes: 2 | Win count: 6 | Win rate: 0.188 | time: 20.90 minutes\n",
      "Epoch: 073/14999 | Loss: 0.0595 | Episodes: 43 | Win count: 7 | Win rate: 0.219 | time: 21.01 minutes\n",
      "Epoch: 074/14999 | Loss: 0.1321 | Episodes: 83 | Win count: 8 | Win rate: 0.250 | time: 21.21 minutes\n",
      "Epoch: 075/14999 | Loss: 0.2205 | Episodes: 148 | Win count: 7 | Win rate: 0.219 | time: 21.57 minutes\n",
      "Epoch: 076/14999 | Loss: 0.2033 | Episodes: 143 | Win count: 6 | Win rate: 0.188 | time: 21.90 minutes\n",
      "Epoch: 077/14999 | Loss: 0.2299 | Episodes: 155 | Win count: 6 | Win rate: 0.188 | time: 22.25 minutes\n",
      "Epoch: 078/14999 | Loss: 0.2046 | Episodes: 150 | Win count: 6 | Win rate: 0.188 | time: 22.61 minutes\n",
      "Epoch: 079/14999 | Loss: 0.2147 | Episodes: 149 | Win count: 6 | Win rate: 0.188 | time: 22.96 minutes\n"
     ]
    },
    {
     "name": "stdout",
     "output_type": "stream",
     "text": [
      "Epoch: 080/14999 | Loss: 0.2092 | Episodes: 150 | Win count: 6 | Win rate: 0.188 | time: 23.28 minutes\n",
      "Epoch: 081/14999 | Loss: 0.1939 | Episodes: 144 | Win count: 6 | Win rate: 0.188 | time: 23.62 minutes\n",
      "Epoch: 082/14999 | Loss: 0.0941 | Episodes: 78 | Win count: 7 | Win rate: 0.219 | time: 23.81 minutes\n",
      "Epoch: 083/14999 | Loss: 0.2488 | Episodes: 146 | Win count: 7 | Win rate: 0.219 | time: 24.13 minutes\n",
      "Epoch: 084/14999 | Loss: 0.2072 | Episodes: 148 | Win count: 7 | Win rate: 0.219 | time: 24.49 minutes\n",
      "Epoch: 085/14999 | Loss: 0.0038 | Episodes: 3 | Win count: 8 | Win rate: 0.250 | time: 24.50 minutes\n",
      "Epoch: 086/14999 | Loss: 0.2003 | Episodes: 150 | Win count: 7 | Win rate: 0.219 | time: 24.86 minutes\n",
      "Epoch: 087/14999 | Loss: 0.0529 | Episodes: 40 | Win count: 8 | Win rate: 0.250 | time: 24.96 minutes\n",
      "Epoch: 088/14999 | Loss: 0.2170 | Episodes: 149 | Win count: 8 | Win rate: 0.250 | time: 25.32 minutes\n",
      "Epoch: 089/14999 | Loss: 0.2079 | Episodes: 145 | Win count: 8 | Win rate: 0.250 | time: 25.68 minutes\n"
     ]
    },
    {
     "name": "stderr",
     "output_type": "stream",
     "text": [
      "C:\\ProgramData\\Anaconda3\\lib\\site-packages\\keras\\callbacks\\callbacks.py:95: RuntimeWarning: Method (on_train_batch_end) is slow compared to the batch update (0.111562). Check your callbacks.\n",
      "  % (hook_name, delta_t_median), RuntimeWarning)\n"
     ]
    },
    {
     "name": "stdout",
     "output_type": "stream",
     "text": [
      "Epoch: 090/14999 | Loss: 0.2431 | Episodes: 156 | Win count: 8 | Win rate: 0.250 | time: 26.08 minutes\n",
      "Epoch: 091/14999 | Loss: 0.0220 | Episodes: 15 | Win count: 9 | Win rate: 0.281 | time: 26.12 minutes\n",
      "Epoch: 092/14999 | Loss: 0.0379 | Episodes: 25 | Win count: 10 | Win rate: 0.312 | time: 26.18 minutes\n",
      "Epoch: 093/14999 | Loss: 0.2393 | Episodes: 152 | Win count: 10 | Win rate: 0.312 | time: 26.54 minutes\n",
      "Epoch: 094/14999 | Loss: 0.2120 | Episodes: 144 | Win count: 10 | Win rate: 0.312 | time: 26.88 minutes\n",
      "Epoch: 095/14999 | Loss: 0.2033 | Episodes: 142 | Win count: 9 | Win rate: 0.281 | time: 27.21 minutes\n",
      "Epoch: 096/14999 | Loss: 0.0112 | Episodes: 8 | Win count: 10 | Win rate: 0.312 | time: 27.23 minutes\n",
      "Epoch: 097/14999 | Loss: 0.1758 | Episodes: 139 | Win count: 10 | Win rate: 0.312 | time: 27.54 minutes\n",
      "Epoch: 098/14999 | Loss: 0.1514 | Episodes: 144 | Win count: 10 | Win rate: 0.312 | time: 27.87 minutes\n",
      "Epoch: 099/14999 | Loss: 0.1879 | Episodes: 149 | Win count: 9 | Win rate: 0.281 | time: 28.20 minutes\n",
      "Epoch: 100/14999 | Loss: 0.0024 | Episodes: 2 | Win count: 10 | Win rate: 0.312 | time: 28.20 minutes\n",
      "Epoch: 101/14999 | Loss: 0.1579 | Episodes: 144 | Win count: 10 | Win rate: 0.312 | time: 28.54 minutes\n",
      "Epoch: 102/14999 | Loss: 0.0114 | Episodes: 10 | Win count: 11 | Win rate: 0.344 | time: 28.56 minutes\n",
      "Epoch: 103/14999 | Loss: 0.1756 | Episodes: 148 | Win count: 11 | Win rate: 0.344 | time: 28.90 minutes\n",
      "Epoch: 104/14999 | Loss: 0.1730 | Episodes: 143 | Win count: 10 | Win rate: 0.312 | time: 29.23 minutes\n",
      "Epoch: 105/14999 | Loss: 0.1088 | Episodes: 76 | Win count: 10 | Win rate: 0.312 | time: 29.41 minutes\n",
      "Epoch: 106/14999 | Loss: 0.0659 | Episodes: 31 | Win count: 10 | Win rate: 0.312 | time: 29.48 minutes\n",
      "Epoch: 107/14999 | Loss: 0.2333 | Episodes: 149 | Win count: 10 | Win rate: 0.312 | time: 29.83 minutes\n",
      "Epoch: 108/14999 | Loss: 0.2106 | Episodes: 154 | Win count: 10 | Win rate: 0.312 | time: 30.20 minutes\n",
      "Epoch: 109/14999 | Loss: 0.1945 | Episodes: 141 | Win count: 10 | Win rate: 0.312 | time: 30.54 minutes\n",
      "Epoch: 110/14999 | Loss: 0.1911 | Episodes: 149 | Win count: 10 | Win rate: 0.312 | time: 30.88 minutes\n",
      "Epoch: 111/14999 | Loss: 0.1916 | Episodes: 147 | Win count: 10 | Win rate: 0.312 | time: 31.23 minutes\n",
      "Epoch: 112/14999 | Loss: 0.2079 | Episodes: 161 | Win count: 10 | Win rate: 0.312 | time: 31.61 minutes\n",
      "Epoch: 113/14999 | Loss: 0.2316 | Episodes: 156 | Win count: 10 | Win rate: 0.312 | time: 31.99 minutes\n",
      "Epoch: 114/14999 | Loss: 0.2270 | Episodes: 150 | Win count: 9 | Win rate: 0.281 | time: 32.34 minutes\n",
      "Epoch: 115/14999 | Loss: 0.2357 | Episodes: 145 | Win count: 9 | Win rate: 0.281 | time: 32.66 minutes\n",
      "Epoch: 116/14999 | Loss: 0.2291 | Episodes: 152 | Win count: 9 | Win rate: 0.281 | time: 33.00 minutes\n",
      "Epoch: 117/14999 | Loss: 0.0498 | Episodes: 37 | Win count: 9 | Win rate: 0.281 | time: 33.08 minutes\n",
      "Epoch: 118/14999 | Loss: 0.2039 | Episodes: 147 | Win count: 9 | Win rate: 0.281 | time: 33.41 minutes\n",
      "Epoch: 119/14999 | Loss: 0.1979 | Episodes: 147 | Win count: 8 | Win rate: 0.250 | time: 33.74 minutes\n",
      "Epoch: 120/14999 | Loss: 0.0218 | Episodes: 17 | Win count: 9 | Win rate: 0.281 | time: 33.78 minutes\n",
      "Epoch: 121/14999 | Loss: 0.2366 | Episodes: 147 | Win count: 9 | Win rate: 0.281 | time: 34.13 minutes\n",
      "Epoch: 122/14999 | Loss: 0.1740 | Episodes: 144 | Win count: 9 | Win rate: 0.281 | time: 34.48 minutes\n",
      "Epoch: 123/14999 | Loss: 0.1830 | Episodes: 149 | Win count: 8 | Win rate: 0.250 | time: 34.83 minutes\n",
      "Epoch: 124/14999 | Loss: 0.1732 | Episodes: 150 | Win count: 7 | Win rate: 0.219 | time: 35.19 minutes\n",
      "Epoch: 125/14999 | Loss: 0.1764 | Episodes: 150 | Win count: 7 | Win rate: 0.219 | time: 35.55 minutes\n",
      "Epoch: 126/14999 | Loss: 0.1727 | Episodes: 144 | Win count: 7 | Win rate: 0.219 | time: 35.90 minutes\n",
      "Epoch: 127/14999 | Loss: 0.0074 | Episodes: 7 | Win count: 8 | Win rate: 0.250 | time: 35.91 minutes\n",
      "Epoch: 128/14999 | Loss: 0.1708 | Episodes: 144 | Win count: 7 | Win rate: 0.219 | time: 36.25 minutes\n",
      "Epoch: 129/14999 | Loss: 0.1621 | Episodes: 148 | Win count: 7 | Win rate: 0.219 | time: 36.60 minutes\n",
      "Epoch: 130/14999 | Loss: 0.1683 | Episodes: 146 | Win count: 7 | Win rate: 0.219 | time: 36.94 minutes\n",
      "Epoch: 131/14999 | Loss: 0.1500 | Episodes: 143 | Win count: 7 | Win rate: 0.219 | time: 37.27 minutes\n",
      "Epoch: 132/14999 | Loss: 0.1389 | Episodes: 142 | Win count: 6 | Win rate: 0.188 | time: 37.58 minutes\n",
      "Epoch: 133/14999 | Loss: 0.1730 | Episodes: 150 | Win count: 6 | Win rate: 0.188 | time: 37.91 minutes\n",
      "Epoch: 134/14999 | Loss: 0.0516 | Episodes: 44 | Win count: 6 | Win rate: 0.188 | time: 38.01 minutes\n",
      "Epoch: 135/14999 | Loss: 0.0028 | Episodes: 3 | Win count: 7 | Win rate: 0.219 | time: 38.02 minutes\n",
      "Epoch: 136/14999 | Loss: 0.0114 | Episodes: 8 | Win count: 8 | Win rate: 0.250 | time: 38.04 minutes\n",
      "Epoch: 137/14999 | Loss: 0.0072 | Episodes: 6 | Win count: 8 | Win rate: 0.250 | time: 38.05 minutes\n",
      "Epoch: 138/14999 | Loss: 0.0567 | Episodes: 49 | Win count: 8 | Win rate: 0.250 | time: 38.17 minutes\n",
      "Epoch: 139/14999 | Loss: 0.1845 | Episodes: 143 | Win count: 8 | Win rate: 0.250 | time: 38.50 minutes\n",
      "Epoch: 140/14999 | Loss: 0.2438 | Episodes: 159 | Win count: 8 | Win rate: 0.250 | time: 38.88 minutes\n",
      "Epoch: 141/14999 | Loss: 0.2059 | Episodes: 138 | Win count: 8 | Win rate: 0.250 | time: 39.23 minutes\n",
      "Epoch: 142/14999 | Loss: 0.1000 | Episodes: 75 | Win count: 9 | Win rate: 0.281 | time: 39.40 minutes\n",
      "Epoch: 143/14999 | Loss: 0.1265 | Episodes: 97 | Win count: 10 | Win rate: 0.312 | time: 39.64 minutes\n",
      "Epoch: 144/14999 | Loss: 0.0019 | Episodes: 2 | Win count: 11 | Win rate: 0.344 | time: 39.65 minutes\n",
      "Epoch: 145/14999 | Loss: 0.1640 | Episodes: 141 | Win count: 11 | Win rate: 0.344 | time: 39.99 minutes\n",
      "Epoch: 146/14999 | Loss: 0.1494 | Episodes: 137 | Win count: 12 | Win rate: 0.375 | time: 40.30 minutes\n",
      "Epoch: 147/14999 | Loss: 0.1805 | Episodes: 148 | Win count: 12 | Win rate: 0.375 | time: 40.65 minutes\n",
      "Epoch: 148/14999 | Loss: 0.2126 | Episodes: 159 | Win count: 12 | Win rate: 0.375 | time: 41.02 minutes\n",
      "Epoch: 149/14999 | Loss: 0.1872 | Episodes: 139 | Win count: 11 | Win rate: 0.344 | time: 41.34 minutes\n",
      "Epoch: 150/14999 | Loss: 0.1722 | Episodes: 145 | Win count: 11 | Win rate: 0.344 | time: 41.69 minutes\n",
      "Epoch: 151/14999 | Loss: 0.1682 | Episodes: 146 | Win count: 11 | Win rate: 0.344 | time: 42.03 minutes\n",
      "Epoch: 152/14999 | Loss: 0.0813 | Episodes: 73 | Win count: 11 | Win rate: 0.344 | time: 42.20 minutes\n",
      "Epoch: 153/14999 | Loss: 0.1911 | Episodes: 150 | Win count: 11 | Win rate: 0.344 | time: 42.54 minutes\n",
      "Epoch: 154/14999 | Loss: 0.0864 | Episodes: 66 | Win count: 12 | Win rate: 0.375 | time: 42.69 minutes\n",
      "Epoch: 155/14999 | Loss: 0.2123 | Episodes: 147 | Win count: 12 | Win rate: 0.375 | time: 43.03 minutes\n",
      "Epoch: 156/14999 | Loss: 0.0039 | Episodes: 3 | Win count: 13 | Win rate: 0.406 | time: 43.03 minutes\n",
      "Epoch: 157/14999 | Loss: 0.2298 | Episodes: 149 | Win count: 13 | Win rate: 0.406 | time: 43.36 minutes\n",
      "Epoch: 158/14999 | Loss: 0.2087 | Episodes: 149 | Win count: 14 | Win rate: 0.438 | time: 43.73 minutes\n",
      "Epoch: 159/14999 | Loss: 0.2037 | Episodes: 148 | Win count: 13 | Win rate: 0.406 | time: 44.07 minutes\n",
      "Epoch: 160/14999 | Loss: 0.1964 | Episodes: 149 | Win count: 13 | Win rate: 0.406 | time: 44.43 minutes\n",
      "Epoch: 161/14999 | Loss: 0.1873 | Episodes: 146 | Win count: 13 | Win rate: 0.406 | time: 44.78 minutes\n",
      "Epoch: 162/14999 | Loss: 0.1995 | Episodes: 150 | Win count: 13 | Win rate: 0.406 | time: 45.13 minutes\n",
      "Epoch: 163/14999 | Loss: 0.1817 | Episodes: 144 | Win count: 13 | Win rate: 0.406 | time: 45.48 minutes\n",
      "Epoch: 164/14999 | Loss: 0.1636 | Episodes: 143 | Win count: 13 | Win rate: 0.406 | time: 45.82 minutes\n",
      "Epoch: 165/14999 | Loss: 0.1590 | Episodes: 148 | Win count: 13 | Win rate: 0.406 | time: 46.18 minutes\n",
      "Epoch: 166/14999 | Loss: 0.1679 | Episodes: 152 | Win count: 12 | Win rate: 0.375 | time: 46.55 minutes\n",
      "Epoch: 167/14999 | Loss: 0.1734 | Episodes: 147 | Win count: 11 | Win rate: 0.344 | time: 46.89 minutes\n",
      "Epoch: 168/14999 | Loss: 0.1924 | Episodes: 148 | Win count: 10 | Win rate: 0.312 | time: 47.26 minutes\n",
      "Epoch: 169/14999 | Loss: 0.0312 | Episodes: 24 | Win count: 10 | Win rate: 0.312 | time: 47.32 minutes\n"
     ]
    },
    {
     "name": "stdout",
     "output_type": "stream",
     "text": [
      "Epoch: 170/14999 | Loss: 0.1796 | Episodes: 139 | Win count: 9 | Win rate: 0.281 | time: 47.66 minutes\n",
      "Epoch: 171/14999 | Loss: 0.2058 | Episodes: 150 | Win count: 9 | Win rate: 0.281 | time: 48.01 minutes\n",
      "Epoch: 172/14999 | Loss: 0.1849 | Episodes: 145 | Win count: 9 | Win rate: 0.281 | time: 48.34 minutes\n",
      "Epoch: 173/14999 | Loss: 0.1668 | Episodes: 147 | Win count: 9 | Win rate: 0.281 | time: 48.67 minutes\n",
      "Epoch: 174/14999 | Loss: 0.2047 | Episodes: 160 | Win count: 8 | Win rate: 0.250 | time: 49.02 minutes\n",
      "Epoch: 175/14999 | Loss: 0.2021 | Episodes: 146 | Win count: 7 | Win rate: 0.219 | time: 49.38 minutes\n",
      "Epoch: 176/14999 | Loss: 0.2176 | Episodes: 154 | Win count: 6 | Win rate: 0.188 | time: 49.75 minutes\n",
      "Epoch: 177/14999 | Loss: 0.2625 | Episodes: 159 | Win count: 6 | Win rate: 0.188 | time: 50.13 minutes\n",
      "Epoch: 178/14999 | Loss: 0.0175 | Episodes: 11 | Win count: 6 | Win rate: 0.188 | time: 50.16 minutes\n",
      "Epoch: 179/14999 | Loss: 0.2192 | Episodes: 139 | Win count: 6 | Win rate: 0.188 | time: 50.50 minutes\n",
      "Epoch: 180/14999 | Loss: 0.0043 | Episodes: 3 | Win count: 7 | Win rate: 0.219 | time: 50.51 minutes\n",
      "Epoch: 181/14999 | Loss: 0.2014 | Episodes: 147 | Win count: 7 | Win rate: 0.219 | time: 50.86 minutes\n",
      "Epoch: 182/14999 | Loss: 0.1805 | Episodes: 146 | Win count: 7 | Win rate: 0.219 | time: 51.21 minutes\n",
      "Epoch: 183/14999 | Loss: 0.1703 | Episodes: 141 | Win count: 7 | Win rate: 0.219 | time: 51.55 minutes\n",
      "Epoch: 184/14999 | Loss: 0.1934 | Episodes: 149 | Win count: 6 | Win rate: 0.188 | time: 51.93 minutes\n",
      "Epoch: 185/14999 | Loss: 0.1925 | Episodes: 156 | Win count: 6 | Win rate: 0.188 | time: 52.28 minutes\n",
      "Epoch: 186/14999 | Loss: 0.1955 | Episodes: 154 | Win count: 5 | Win rate: 0.156 | time: 52.63 minutes\n",
      "Epoch: 187/14999 | Loss: 0.1123 | Episodes: 78 | Win count: 6 | Win rate: 0.188 | time: 52.79 minutes\n",
      "Epoch: 188/14999 | Loss: 0.2870 | Episodes: 160 | Win count: 5 | Win rate: 0.156 | time: 53.16 minutes\n",
      "Epoch: 189/14999 | Loss: 0.1364 | Episodes: 78 | Win count: 6 | Win rate: 0.188 | time: 53.34 minutes\n",
      "Epoch: 190/14999 | Loss: 0.2652 | Episodes: 150 | Win count: 5 | Win rate: 0.156 | time: 53.71 minutes\n",
      "Epoch: 191/14999 | Loss: 0.2008 | Episodes: 137 | Win count: 5 | Win rate: 0.156 | time: 54.04 minutes\n",
      "Epoch: 192/14999 | Loss: 0.1203 | Episodes: 131 | Win count: 5 | Win rate: 0.156 | time: 54.37 minutes\n",
      "Epoch: 193/14999 | Loss: 0.0027 | Episodes: 4 | Win count: 6 | Win rate: 0.188 | time: 54.38 minutes\n",
      "Epoch: 194/14999 | Loss: 0.0582 | Episodes: 81 | Win count: 7 | Win rate: 0.219 | time: 54.58 minutes\n",
      "Epoch: 195/14999 | Loss: 0.0608 | Episodes: 124 | Win count: 8 | Win rate: 0.250 | time: 54.87 minutes\n",
      "Epoch: 196/14999 | Loss: 0.0098 | Episodes: 28 | Win count: 9 | Win rate: 0.281 | time: 54.94 minutes\n",
      "Epoch: 197/14999 | Loss: 0.0454 | Episodes: 135 | Win count: 9 | Win rate: 0.281 | time: 55.28 minutes\n",
      "Epoch: 198/14999 | Loss: 0.0035 | Episodes: 7 | Win count: 10 | Win rate: 0.312 | time: 55.30 minutes\n",
      "Epoch: 199/14999 | Loss: 0.0040 | Episodes: 7 | Win count: 11 | Win rate: 0.344 | time: 55.31 minutes\n",
      "Epoch: 200/14999 | Loss: 0.0644 | Episodes: 139 | Win count: 11 | Win rate: 0.344 | time: 55.65 minutes\n",
      "Epoch: 201/14999 | Loss: 0.0640 | Episodes: 134 | Win count: 10 | Win rate: 0.312 | time: 55.99 minutes\n",
      "Epoch: 202/14999 | Loss: 0.0090 | Episodes: 17 | Win count: 11 | Win rate: 0.344 | time: 56.04 minutes\n",
      "Epoch: 203/14999 | Loss: 0.0036 | Episodes: 8 | Win count: 12 | Win rate: 0.375 | time: 56.06 minutes\n",
      "Epoch: 204/14999 | Loss: 0.0115 | Episodes: 23 | Win count: 13 | Win rate: 0.406 | time: 56.11 minutes\n",
      "Epoch: 205/14999 | Loss: 0.0105 | Episodes: 21 | Win count: 14 | Win rate: 0.438 | time: 56.16 minutes\n",
      "Epoch: 206/14999 | Loss: 0.0033 | Episodes: 8 | Win count: 15 | Win rate: 0.469 | time: 56.18 minutes\n",
      "Epoch: 207/14999 | Loss: 0.0006 | Episodes: 1 | Win count: 16 | Win rate: 0.500 | time: 56.18 minutes\n",
      "Epoch: 208/14999 | Loss: 0.0633 | Episodes: 133 | Win count: 16 | Win rate: 0.500 | time: 56.51 minutes\n",
      "Epoch: 209/14999 | Loss: 0.0114 | Episodes: 25 | Win count: 17 | Win rate: 0.531 | time: 56.57 minutes\n",
      "Epoch: 210/14999 | Loss: 0.0042 | Episodes: 10 | Win count: 17 | Win rate: 0.531 | time: 56.60 minutes\n",
      "Epoch: 211/14999 | Loss: 0.0029 | Episodes: 10 | Win count: 18 | Win rate: 0.562 | time: 56.62 minutes\n",
      "Epoch: 212/14999 | Loss: 0.0064 | Episodes: 17 | Win count: 18 | Win rate: 0.562 | time: 56.66 minutes\n",
      "Epoch: 213/14999 | Loss: 0.0362 | Episodes: 132 | Win count: 18 | Win rate: 0.562 | time: 56.97 minutes\n",
      "Epoch: 214/14999 | Loss: 0.0026 | Episodes: 16 | Win count: 19 | Win rate: 0.594 | time: 57.01 minutes\n",
      "Epoch: 215/14999 | Loss: 0.0020 | Episodes: 5 | Win count: 20 | Win rate: 0.625 | time: 57.02 minutes\n",
      "Epoch: 216/14999 | Loss: 0.0529 | Episodes: 139 | Win count: 20 | Win rate: 0.625 | time: 57.34 minutes\n",
      "Epoch: 217/14999 | Loss: 0.0579 | Episodes: 132 | Win count: 20 | Win rate: 0.625 | time: 57.63 minutes\n",
      "Epoch: 218/14999 | Loss: 0.0023 | Episodes: 7 | Win count: 21 | Win rate: 0.656 | time: 57.65 minutes\n",
      "Epoch: 219/14999 | Loss: 0.0246 | Episodes: 55 | Win count: 21 | Win rate: 0.656 | time: 57.78 minutes\n",
      "Epoch: 220/14999 | Loss: 0.0020 | Episodes: 7 | Win count: 22 | Win rate: 0.688 | time: 57.80 minutes\n",
      "Epoch: 221/14999 | Loss: 0.0108 | Episodes: 19 | Win count: 22 | Win rate: 0.688 | time: 57.84 minutes\n",
      "Epoch: 222/14999 | Loss: 0.0069 | Episodes: 12 | Win count: 23 | Win rate: 0.719 | time: 57.87 minutes\n",
      "Epoch: 223/14999 | Loss: 0.0372 | Episodes: 77 | Win count: 24 | Win rate: 0.750 | time: 58.04 minutes\n",
      "Epoch: 224/14999 | Loss: 0.0067 | Episodes: 17 | Win count: 25 | Win rate: 0.781 | time: 58.08 minutes\n",
      "Epoch: 225/14999 | Loss: 0.0008 | Episodes: 2 | Win count: 25 | Win rate: 0.781 | time: 58.09 minutes\n",
      "Epoch: 226/14999 | Loss: 0.0143 | Episodes: 28 | Win count: 25 | Win rate: 0.781 | time: 58.15 minutes\n",
      "Epoch: 227/14999 | Loss: 0.0480 | Episodes: 129 | Win count: 24 | Win rate: 0.750 | time: 58.46 minutes\n",
      "Epoch: 228/14999 | Loss: 0.0001 | Episodes: 1 | Win count: 24 | Win rate: 0.750 | time: 58.46 minutes\n",
      "Epoch: 229/14999 | Loss: 0.0029 | Episodes: 12 | Win count: 25 | Win rate: 0.781 | time: 58.49 minutes\n",
      "Epoch: 230/14999 | Loss: 0.0095 | Episodes: 27 | Win count: 25 | Win rate: 0.781 | time: 58.55 minutes\n",
      "Epoch: 231/14999 | Loss: 0.0040 | Episodes: 20 | Win count: 25 | Win rate: 0.781 | time: 58.60 minutes\n",
      "Epoch: 232/14999 | Loss: 0.0041 | Episodes: 15 | Win count: 26 | Win rate: 0.812 | time: 58.64 minutes\n",
      "Epoch: 233/14999 | Loss: 0.0075 | Episodes: 22 | Win count: 27 | Win rate: 0.844 | time: 58.70 minutes\n",
      "Epoch: 234/14999 | Loss: 0.0022 | Episodes: 9 | Win count: 27 | Win rate: 0.844 | time: 58.72 minutes\n",
      "Epoch: 235/14999 | Loss: 0.0054 | Episodes: 17 | Win count: 27 | Win rate: 0.844 | time: 58.76 minutes\n",
      "Epoch: 236/14999 | Loss: 0.0017 | Episodes: 7 | Win count: 27 | Win rate: 0.844 | time: 58.78 minutes\n",
      "Epoch: 237/14999 | Loss: 0.0022 | Episodes: 22 | Win count: 27 | Win rate: 0.844 | time: 58.83 minutes\n",
      "Epoch: 238/14999 | Loss: 0.0147 | Episodes: 83 | Win count: 27 | Win rate: 0.844 | time: 59.03 minutes\n",
      "Epoch: 239/14999 | Loss: 0.0032 | Episodes: 25 | Win count: 27 | Win rate: 0.844 | time: 59.09 minutes\n",
      "Epoch: 240/14999 | Loss: 0.0024 | Episodes: 26 | Win count: 28 | Win rate: 0.875 | time: 59.15 minutes\n",
      "Epoch: 241/14999 | Loss: 0.0036 | Episodes: 21 | Win count: 28 | Win rate: 0.875 | time: 59.20 minutes\n",
      "Epoch: 242/14999 | Loss: 0.0032 | Episodes: 30 | Win count: 28 | Win rate: 0.875 | time: 59.28 minutes\n",
      "Epoch: 243/14999 | Loss: 0.0018 | Episodes: 24 | Win count: 28 | Win rate: 0.875 | time: 59.33 minutes\n",
      "Epoch: 244/14999 | Loss: 0.0013 | Episodes: 22 | Win count: 28 | Win rate: 0.875 | time: 59.38 minutes\n",
      "Epoch: 245/14999 | Loss: 0.0015 | Episodes: 23 | Win count: 29 | Win rate: 0.906 | time: 59.43 minutes\n",
      "Epoch: 246/14999 | Loss: 0.0014 | Episodes: 30 | Win count: 29 | Win rate: 0.906 | time: 59.51 minutes\n",
      "Epoch: 247/14999 | Loss: 0.0001 | Episodes: 3 | Win count: 29 | Win rate: 0.906 | time: 59.52 minutes\n",
      "Epoch: 248/14999 | Loss: 0.0009 | Episodes: 20 | Win count: 30 | Win rate: 0.938 | time: 59.56 minutes\n",
      "Epoch: 249/14999 | Loss: 0.0077 | Episodes: 144 | Win count: 31 | Win rate: 0.969 | time: 59.90 minutes\n"
     ]
    },
    {
     "name": "stdout",
     "output_type": "stream",
     "text": [
      "Epoch: 250/14999 | Loss: 0.0029 | Episodes: 23 | Win count: 31 | Win rate: 0.969 | time: 59.95 minutes\n",
      "Epoch: 251/14999 | Loss: 0.0019 | Episodes: 22 | Win count: 31 | Win rate: 0.969 | time: 60.01 minutes\n",
      "Epoch: 252/14999 | Loss: 0.0005 | Episodes: 17 | Win count: 31 | Win rate: 0.969 | time: 60.05 minutes\n",
      "Epoch: 253/14999 | Loss: 0.0046 | Episodes: 29 | Win count: 31 | Win rate: 0.969 | time: 60.12 minutes\n",
      "Epoch: 254/14999 | Loss: 0.0011 | Episodes: 5 | Win count: 31 | Win rate: 0.969 | time: 60.13 minutes\n",
      "Epoch: 255/14999 | Loss: 0.0033 | Episodes: 21 | Win count: 31 | Win rate: 0.969 | time: 60.18 minutes\n",
      "Epoch: 256/14999 | Loss: 0.0012 | Episodes: 18 | Win count: 31 | Win rate: 0.969 | time: 60.22 minutes\n",
      "Epoch: 257/14999 | Loss: 0.0053 | Episodes: 34 | Win count: 31 | Win rate: 0.969 | time: 60.30 minutes\n",
      "Epoch: 258/14999 | Loss: 0.0010 | Episodes: 9 | Win count: 31 | Win rate: 0.969 | time: 60.32 minutes\n",
      "Epoch: 259/14999 | Loss: 0.0059 | Episodes: 37 | Win count: 32 | Win rate: 1.000 | time: 60.42 minutes\n",
      "Epoch: 260/14999 | Loss: 0.0004 | Episodes: 7 | Win count: 32 | Win rate: 1.000 | time: 60.44 minutes\n",
      "Epoch: 261/14999 | Loss: 0.0004 | Episodes: 4 | Win count: 32 | Win rate: 1.000 | time: 60.45 minutes\n",
      "Epoch: 262/14999 | Loss: 0.0011 | Episodes: 20 | Win count: 32 | Win rate: 1.000 | time: 60.51 minutes\n",
      "Epoch: 263/14999 | Loss: 0.0029 | Episodes: 25 | Win count: 32 | Win rate: 1.000 | time: 60.57 minutes\n",
      "Epoch: 264/14999 | Loss: 0.0038 | Episodes: 21 | Win count: 32 | Win rate: 1.000 | time: 60.63 minutes\n",
      "Epoch: 265/14999 | Loss: 0.0037 | Episodes: 28 | Win count: 32 | Win rate: 1.000 | time: 60.69 minutes\n",
      "Epoch: 266/14999 | Loss: 0.0035 | Episodes: 29 | Win count: 32 | Win rate: 1.000 | time: 60.76 minutes\n",
      "Epoch: 267/14999 | Loss: 0.0018 | Episodes: 13 | Win count: 32 | Win rate: 1.000 | time: 60.79 minutes\n",
      "Epoch: 268/14999 | Loss: 0.0018 | Episodes: 17 | Win count: 32 | Win rate: 1.000 | time: 60.84 minutes\n",
      "Epoch: 269/14999 | Loss: 0.0034 | Episodes: 17 | Win count: 32 | Win rate: 1.000 | time: 60.90 minutes\n",
      "Epoch: 270/14999 | Loss: 0.0002 | Episodes: 2 | Win count: 32 | Win rate: 1.000 | time: 60.92 minutes\n",
      "Epoch: 271/14999 | Loss: 0.0002 | Episodes: 3 | Win count: 32 | Win rate: 1.000 | time: 60.94 minutes\n",
      "Epoch: 272/14999 | Loss: 0.0026 | Episodes: 28 | Win count: 32 | Win rate: 1.000 | time: 61.01 minutes\n",
      "Epoch: 273/14999 | Loss: 0.0030 | Episodes: 24 | Win count: 32 | Win rate: 1.000 | time: 61.07 minutes\n",
      "Epoch: 274/14999 | Loss: 0.0023 | Episodes: 22 | Win count: 32 | Win rate: 1.000 | time: 61.12 minutes\n",
      "Epoch: 275/14999 | Loss: 0.0000 | Episodes: 1 | Win count: 32 | Win rate: 1.000 | time: 61.13 minutes\n",
      "Epoch: 276/14999 | Loss: 0.0001 | Episodes: 2 | Win count: 32 | Win rate: 1.000 | time: 61.14 minutes\n",
      "Epoch: 277/14999 | Loss: 0.0036 | Episodes: 25 | Win count: 32 | Win rate: 1.000 | time: 61.20 minutes\n",
      "Epoch: 278/14999 | Loss: 0.0010 | Episodes: 25 | Win count: 32 | Win rate: 1.000 | time: 61.26 minutes\n",
      "Epoch: 279/14999 | Loss: 0.0012 | Episodes: 9 | Win count: 32 | Win rate: 1.000 | time: 61.30 minutes\n",
      "Epoch: 280/14999 | Loss: 0.0031 | Episodes: 32 | Win count: 32 | Win rate: 1.000 | time: 61.38 minutes\n",
      "Epoch: 281/14999 | Loss: 0.0000 | Episodes: 2 | Win count: 32 | Win rate: 1.000 | time: 61.40 minutes\n",
      "Epoch: 282/14999 | Loss: 0.0003 | Episodes: 1 | Win count: 32 | Win rate: 1.000 | time: 61.41 minutes\n",
      "Epoch: 283/14999 | Loss: 0.0032 | Episodes: 26 | Win count: 32 | Win rate: 1.000 | time: 61.49 minutes\n",
      "Epoch: 284/14999 | Loss: 0.0026 | Episodes: 26 | Win count: 32 | Win rate: 1.000 | time: 61.56 minutes\n",
      "Epoch: 285/14999 | Loss: 0.0009 | Episodes: 16 | Win count: 32 | Win rate: 1.000 | time: 61.62 minutes\n",
      "Epoch: 286/14999 | Loss: 0.0021 | Episodes: 21 | Win count: 32 | Win rate: 1.000 | time: 61.68 minutes\n",
      "Epoch: 287/14999 | Loss: 0.0004 | Episodes: 11 | Win count: 32 | Win rate: 1.000 | time: 61.72 minutes\n",
      "Epoch: 288/14999 | Loss: 0.0000 | Episodes: 5 | Win count: 32 | Win rate: 1.000 | time: 61.74 minutes\n",
      "Epoch: 289/14999 | Loss: 0.0004 | Episodes: 8 | Win count: 32 | Win rate: 1.000 | time: 61.78 minutes\n",
      "Epoch: 290/14999 | Loss: 0.0011 | Episodes: 30 | Win count: 32 | Win rate: 1.000 | time: 61.86 minutes\n",
      "Epoch: 291/14999 | Loss: 0.0011 | Episodes: 29 | Win count: 32 | Win rate: 1.000 | time: 61.94 minutes\n",
      "Epoch: 292/14999 | Loss: 0.0001 | Episodes: 7 | Win count: 32 | Win rate: 1.000 | time: 61.97 minutes\n",
      "Epoch: 293/14999 | Loss: 0.0000 | Episodes: 6 | Win count: 32 | Win rate: 1.000 | time: 62.00 minutes\n",
      "Epoch: 294/14999 | Loss: 0.0009 | Episodes: 7 | Win count: 32 | Win rate: 1.000 | time: 62.02 minutes\n",
      "Epoch: 295/14999 | Loss: 0.0000 | Episodes: 2 | Win count: 32 | Win rate: 1.000 | time: 62.04 minutes\n",
      "Epoch: 296/14999 | Loss: 0.0006 | Episodes: 12 | Win count: 32 | Win rate: 1.000 | time: 62.08 minutes\n",
      "Epoch: 297/14999 | Loss: 0.0000 | Episodes: 1 | Win count: 32 | Win rate: 1.000 | time: 62.09 minutes\n",
      "Epoch: 298/14999 | Loss: 0.0002 | Episodes: 9 | Win count: 32 | Win rate: 1.000 | time: 62.13 minutes\n",
      "Epoch: 299/14999 | Loss: 0.0008 | Episodes: 18 | Win count: 32 | Win rate: 1.000 | time: 62.18 minutes\n",
      "Epoch: 300/14999 | Loss: 0.0014 | Episodes: 24 | Win count: 32 | Win rate: 1.000 | time: 62.25 minutes\n",
      "Epoch: 301/14999 | Loss: 0.0001 | Episodes: 24 | Win count: 32 | Win rate: 1.000 | time: 62.32 minutes\n",
      "Epoch: 302/14999 | Loss: 0.0005 | Episodes: 9 | Win count: 32 | Win rate: 1.000 | time: 62.35 minutes\n",
      "Epoch: 303/14999 | Loss: 0.0002 | Episodes: 14 | Win count: 32 | Win rate: 1.000 | time: 62.39 minutes\n",
      "Epoch: 304/14999 | Loss: 0.0011 | Episodes: 38 | Win count: 32 | Win rate: 1.000 | time: 62.50 minutes\n",
      "Epoch: 305/14999 | Loss: 0.0000 | Episodes: 7 | Win count: 32 | Win rate: 1.000 | time: 62.53 minutes\n",
      "Epoch: 306/14999 | Loss: 0.0002 | Episodes: 12 | Win count: 32 | Win rate: 1.000 | time: 62.57 minutes\n",
      "Epoch: 307/14999 | Loss: 0.0007 | Episodes: 23 | Win count: 32 | Win rate: 1.000 | time: 62.64 minutes\n",
      "Epoch: 308/14999 | Loss: 0.0005 | Episodes: 20 | Win count: 32 | Win rate: 1.000 | time: 62.70 minutes\n",
      "Epoch: 309/14999 | Loss: 0.0003 | Episodes: 20 | Win count: 32 | Win rate: 1.000 | time: 62.81 minutes\n",
      "Epoch: 310/14999 | Loss: 0.0004 | Episodes: 11 | Win count: 32 | Win rate: 1.000 | time: 62.85 minutes\n",
      "Epoch: 311/14999 | Loss: 0.0008 | Episodes: 32 | Win count: 32 | Win rate: 1.000 | time: 62.95 minutes\n",
      "Epoch: 312/14999 | Loss: 0.0007 | Episodes: 31 | Win count: 32 | Win rate: 1.000 | time: 63.04 minutes\n",
      "Epoch: 313/14999 | Loss: 0.0000 | Episodes: 5 | Win count: 32 | Win rate: 1.000 | time: 63.07 minutes\n",
      "Epoch: 314/14999 | Loss: 0.0002 | Episodes: 31 | Win count: 32 | Win rate: 1.000 | time: 63.17 minutes\n",
      "Epoch: 315/14999 | Loss: 0.0005 | Episodes: 15 | Win count: 32 | Win rate: 1.000 | time: 63.22 minutes\n",
      "Epoch: 316/14999 | Loss: 0.0000 | Episodes: 21 | Win count: 32 | Win rate: 1.000 | time: 63.29 minutes\n",
      "Epoch: 317/14999 | Loss: 0.0000 | Episodes: 29 | Win count: 32 | Win rate: 1.000 | time: 63.38 minutes\n",
      "Epoch: 318/14999 | Loss: 0.0000 | Episodes: 18 | Win count: 32 | Win rate: 1.000 | time: 63.44 minutes\n",
      "Epoch: 319/14999 | Loss: 0.0000 | Episodes: 2 | Win count: 32 | Win rate: 1.000 | time: 63.46 minutes\n",
      "Epoch: 320/14999 | Loss: 0.0000 | Episodes: 4 | Win count: 32 | Win rate: 1.000 | time: 63.48 minutes\n",
      "Epoch: 321/14999 | Loss: 0.0003 | Episodes: 28 | Win count: 32 | Win rate: 1.000 | time: 63.56 minutes\n",
      "Epoch: 322/14999 | Loss: 0.0011 | Episodes: 21 | Win count: 32 | Win rate: 1.000 | time: 63.62 minutes\n",
      "Epoch: 323/14999 | Loss: 0.0032 | Episodes: 13 | Win count: 32 | Win rate: 1.000 | time: 63.65 minutes\n",
      "Epoch: 324/14999 | Loss: 0.0000 | Episodes: 30 | Win count: 32 | Win rate: 1.000 | time: 63.74 minutes\n",
      "Epoch: 325/14999 | Loss: 0.0000 | Episodes: 10 | Win count: 32 | Win rate: 1.000 | time: 63.77 minutes\n",
      "Epoch: 326/14999 | Loss: 0.0000 | Episodes: 31 | Win count: 32 | Win rate: 1.000 | time: 63.86 minutes\n",
      "Epoch: 327/14999 | Loss: 0.0000 | Episodes: 1 | Win count: 32 | Win rate: 1.000 | time: 63.88 minutes\n",
      "Epoch: 328/14999 | Loss: 0.0000 | Episodes: 3 | Win count: 32 | Win rate: 1.000 | time: 63.90 minutes\n",
      "Epoch: 329/14999 | Loss: 0.0001 | Episodes: 15 | Win count: 32 | Win rate: 1.000 | time: 63.95 minutes\n"
     ]
    },
    {
     "name": "stdout",
     "output_type": "stream",
     "text": [
      "Epoch: 330/14999 | Loss: 0.0016 | Episodes: 17 | Win count: 32 | Win rate: 1.000 | time: 64.00 minutes\n",
      "Epoch: 331/14999 | Loss: 0.0001 | Episodes: 15 | Win count: 32 | Win rate: 1.000 | time: 64.05 minutes\n",
      "Epoch: 332/14999 | Loss: 0.0001 | Episodes: 27 | Win count: 32 | Win rate: 1.000 | time: 64.12 minutes\n",
      "Epoch: 333/14999 | Loss: 0.0000 | Episodes: 2 | Win count: 32 | Win rate: 1.000 | time: 64.14 minutes\n",
      "Epoch: 334/14999 | Loss: 0.0000 | Episodes: 21 | Win count: 32 | Win rate: 1.000 | time: 64.20 minutes\n",
      "Epoch: 335/14999 | Loss: 0.0000 | Episodes: 29 | Win count: 32 | Win rate: 1.000 | time: 64.28 minutes\n",
      "Epoch: 336/14999 | Loss: 0.0000 | Episodes: 28 | Win count: 32 | Win rate: 1.000 | time: 64.36 minutes\n",
      "Epoch: 337/14999 | Loss: 0.0003 | Episodes: 18 | Win count: 32 | Win rate: 1.000 | time: 64.42 minutes\n",
      "Epoch: 338/14999 | Loss: 0.0000 | Episodes: 22 | Win count: 32 | Win rate: 1.000 | time: 64.48 minutes\n",
      "Epoch: 339/14999 | Loss: 0.0000 | Episodes: 19 | Win count: 32 | Win rate: 1.000 | time: 64.54 minutes\n",
      "Epoch: 340/14999 | Loss: 0.0023 | Episodes: 14 | Win count: 32 | Win rate: 1.000 | time: 64.60 minutes\n",
      "Epoch: 341/14999 | Loss: 0.0002 | Episodes: 17 | Win count: 32 | Win rate: 1.000 | time: 64.66 minutes\n",
      "Epoch: 342/14999 | Loss: 0.0000 | Episodes: 18 | Win count: 32 | Win rate: 1.000 | time: 64.71 minutes\n",
      "Epoch: 343/14999 | Loss: 0.0000 | Episodes: 19 | Win count: 32 | Win rate: 1.000 | time: 64.77 minutes\n",
      "Epoch: 344/14999 | Loss: 0.0000 | Episodes: 23 | Win count: 32 | Win rate: 1.000 | time: 64.83 minutes\n",
      "Epoch: 345/14999 | Loss: 0.0000 | Episodes: 21 | Win count: 32 | Win rate: 1.000 | time: 64.89 minutes\n",
      "Epoch: 346/14999 | Loss: 0.0000 | Episodes: 7 | Win count: 32 | Win rate: 1.000 | time: 64.92 minutes\n",
      "Epoch: 347/14999 | Loss: 0.0000 | Episodes: 26 | Win count: 32 | Win rate: 1.000 | time: 65.00 minutes\n",
      "Epoch: 348/14999 | Loss: 0.0000 | Episodes: 19 | Win count: 32 | Win rate: 1.000 | time: 65.06 minutes\n",
      "Epoch: 349/14999 | Loss: 0.0000 | Episodes: 17 | Win count: 32 | Win rate: 1.000 | time: 65.11 minutes\n",
      "Epoch: 350/14999 | Loss: 0.0000 | Episodes: 23 | Win count: 32 | Win rate: 1.000 | time: 65.18 minutes\n",
      "Epoch: 351/14999 | Loss: 0.0003 | Episodes: 28 | Win count: 32 | Win rate: 1.000 | time: 65.26 minutes\n",
      "Epoch: 352/14999 | Loss: 0.0001 | Episodes: 28 | Win count: 32 | Win rate: 1.000 | time: 65.34 minutes\n",
      "Epoch: 353/14999 | Loss: 0.0000 | Episodes: 9 | Win count: 32 | Win rate: 1.000 | time: 65.38 minutes\n",
      "Epoch: 354/14999 | Loss: 0.0006 | Episodes: 19 | Win count: 32 | Win rate: 1.000 | time: 65.44 minutes\n",
      "Epoch: 355/14999 | Loss: 0.0003 | Episodes: 30 | Win count: 32 | Win rate: 1.000 | time: 65.52 minutes\n",
      "Epoch: 356/14999 | Loss: 0.0000 | Episodes: 16 | Win count: 32 | Win rate: 1.000 | time: 65.57 minutes\n",
      "Epoch: 357/14999 | Loss: 0.0004 | Episodes: 27 | Win count: 32 | Win rate: 1.000 | time: 65.65 minutes\n",
      "Epoch: 358/14999 | Loss: 0.0003 | Episodes: 22 | Win count: 32 | Win rate: 1.000 | time: 65.71 minutes\n",
      "Epoch: 359/14999 | Loss: 0.0000 | Episodes: 12 | Win count: 32 | Win rate: 1.000 | time: 65.75 minutes\n",
      "Epoch: 360/14999 | Loss: 0.0000 | Episodes: 20 | Win count: 32 | Win rate: 1.000 | time: 65.80 minutes\n",
      "Epoch: 361/14999 | Loss: 0.0000 | Episodes: 8 | Win count: 32 | Win rate: 1.000 | time: 65.84 minutes\n",
      "Epoch: 362/14999 | Loss: 0.0000 | Episodes: 10 | Win count: 32 | Win rate: 1.000 | time: 65.87 minutes\n",
      "Epoch: 363/14999 | Loss: 0.0001 | Episodes: 28 | Win count: 32 | Win rate: 1.000 | time: 65.95 minutes\n",
      "Epoch: 364/14999 | Loss: 0.0000 | Episodes: 5 | Win count: 32 | Win rate: 1.000 | time: 65.98 minutes\n",
      "Epoch: 365/14999 | Loss: 0.0000 | Episodes: 18 | Win count: 32 | Win rate: 1.000 | time: 66.03 minutes\n",
      "Epoch: 366/14999 | Loss: 0.0000 | Episodes: 23 | Win count: 32 | Win rate: 1.000 | time: 66.10 minutes\n",
      "Epoch: 367/14999 | Loss: 0.0000 | Episodes: 10 | Win count: 32 | Win rate: 1.000 | time: 66.14 minutes\n",
      "Epoch: 368/14999 | Loss: 0.0004 | Episodes: 31 | Win count: 32 | Win rate: 1.000 | time: 66.23 minutes\n",
      "Epoch: 369/14999 | Loss: 0.0000 | Episodes: 7 | Win count: 32 | Win rate: 1.000 | time: 66.26 minutes\n",
      "Epoch: 370/14999 | Loss: 0.0003 | Episodes: 25 | Win count: 32 | Win rate: 1.000 | time: 66.33 minutes\n",
      "Epoch: 371/14999 | Loss: 0.0008 | Episodes: 23 | Win count: 32 | Win rate: 1.000 | time: 66.39 minutes\n",
      "Epoch: 372/14999 | Loss: 0.0000 | Episodes: 30 | Win count: 32 | Win rate: 1.000 | time: 66.48 minutes\n",
      "Epoch: 373/14999 | Loss: 0.0000 | Episodes: 16 | Win count: 32 | Win rate: 1.000 | time: 66.53 minutes\n",
      "Epoch: 374/14999 | Loss: 0.0006 | Episodes: 23 | Win count: 32 | Win rate: 1.000 | time: 66.59 minutes\n",
      "Epoch: 375/14999 | Loss: 0.0000 | Episodes: 22 | Win count: 32 | Win rate: 1.000 | time: 66.66 minutes\n",
      "Epoch: 376/14999 | Loss: 0.0009 | Episodes: 34 | Win count: 32 | Win rate: 1.000 | time: 1.11 hours\n",
      "Epoch: 377/14999 | Loss: 0.0001 | Episodes: 1 | Win count: 32 | Win rate: 1.000 | time: 1.11 hours\n",
      "Epoch: 378/14999 | Loss: 0.0018 | Episodes: 30 | Win count: 32 | Win rate: 1.000 | time: 1.11 hours\n",
      "Epoch: 379/14999 | Loss: 0.0004 | Episodes: 17 | Win count: 32 | Win rate: 1.000 | time: 1.11 hours\n",
      "Epoch: 380/14999 | Loss: 0.0003 | Episodes: 17 | Win count: 32 | Win rate: 1.000 | time: 1.12 hours\n",
      "Epoch: 381/14999 | Loss: 0.0001 | Episodes: 20 | Win count: 32 | Win rate: 1.000 | time: 1.12 hours\n",
      "Epoch: 382/14999 | Loss: 0.0012 | Episodes: 27 | Win count: 32 | Win rate: 1.000 | time: 1.12 hours\n",
      "Epoch: 383/14999 | Loss: 0.0003 | Episodes: 30 | Win count: 32 | Win rate: 1.000 | time: 1.12 hours\n",
      "Epoch: 384/14999 | Loss: 0.0000 | Episodes: 9 | Win count: 32 | Win rate: 1.000 | time: 1.12 hours\n",
      "Epoch: 385/14999 | Loss: 0.0000 | Episodes: 9 | Win count: 32 | Win rate: 1.000 | time: 1.12 hours\n",
      "Epoch: 386/14999 | Loss: 0.0000 | Episodes: 2 | Win count: 32 | Win rate: 1.000 | time: 1.12 hours\n",
      "Epoch: 387/14999 | Loss: 0.0000 | Episodes: 1 | Win count: 32 | Win rate: 1.000 | time: 1.12 hours\n",
      "Epoch: 388/14999 | Loss: 0.0000 | Episodes: 11 | Win count: 32 | Win rate: 1.000 | time: 1.12 hours\n",
      "Epoch: 389/14999 | Loss: 0.0006 | Episodes: 22 | Win count: 32 | Win rate: 1.000 | time: 1.12 hours\n",
      "Epoch: 390/14999 | Loss: 0.0000 | Episodes: 10 | Win count: 32 | Win rate: 1.000 | time: 1.12 hours\n",
      "Epoch: 391/14999 | Loss: 0.0000 | Episodes: 2 | Win count: 32 | Win rate: 1.000 | time: 1.12 hours\n",
      "Epoch: 392/14999 | Loss: 0.0000 | Episodes: 30 | Win count: 32 | Win rate: 1.000 | time: 1.12 hours\n",
      "Epoch: 393/14999 | Loss: 0.0000 | Episodes: 1 | Win count: 32 | Win rate: 1.000 | time: 1.12 hours\n",
      "Epoch: 394/14999 | Loss: 0.0000 | Episodes: 1 | Win count: 32 | Win rate: 1.000 | time: 1.12 hours\n",
      "Epoch: 395/14999 | Loss: 0.0000 | Episodes: 15 | Win count: 32 | Win rate: 1.000 | time: 1.12 hours\n",
      "Epoch: 396/14999 | Loss: 0.0000 | Episodes: 24 | Win count: 32 | Win rate: 1.000 | time: 1.12 hours\n",
      "Epoch: 397/14999 | Loss: 0.0000 | Episodes: 4 | Win count: 32 | Win rate: 1.000 | time: 1.13 hours\n",
      "Epoch: 398/14999 | Loss: 0.0026 | Episodes: 31 | Win count: 32 | Win rate: 1.000 | time: 1.13 hours\n",
      "Epoch: 399/14999 | Loss: 0.0016 | Episodes: 25 | Win count: 32 | Win rate: 1.000 | time: 1.13 hours\n",
      "Epoch: 400/14999 | Loss: 0.0012 | Episodes: 14 | Win count: 32 | Win rate: 1.000 | time: 1.13 hours\n",
      "Epoch: 401/14999 | Loss: 0.0053 | Episodes: 28 | Win count: 32 | Win rate: 1.000 | time: 1.13 hours\n",
      "Epoch: 402/14999 | Loss: 0.0107 | Episodes: 43 | Win count: 32 | Win rate: 1.000 | time: 1.13 hours\n",
      "Epoch: 403/14999 | Loss: 0.0020 | Episodes: 13 | Win count: 32 | Win rate: 1.000 | time: 1.13 hours\n",
      "Epoch: 404/14999 | Loss: 0.0020 | Episodes: 17 | Win count: 32 | Win rate: 1.000 | time: 1.13 hours\n",
      "Epoch: 405/14999 | Loss: 0.0056 | Episodes: 30 | Win count: 32 | Win rate: 1.000 | time: 1.13 hours\n",
      "Epoch: 406/14999 | Loss: 0.0012 | Episodes: 8 | Win count: 32 | Win rate: 1.000 | time: 1.13 hours\n",
      "Epoch: 407/14999 | Loss: 0.0031 | Episodes: 19 | Win count: 32 | Win rate: 1.000 | time: 1.13 hours\n",
      "Epoch: 408/14999 | Loss: 0.0025 | Episodes: 15 | Win count: 32 | Win rate: 1.000 | time: 1.14 hours\n",
      "Epoch: 409/14999 | Loss: 0.0079 | Episodes: 35 | Win count: 32 | Win rate: 1.000 | time: 1.14 hours\n",
      "Epoch: 410/14999 | Loss: 0.0072 | Episodes: 33 | Win count: 32 | Win rate: 1.000 | time: 1.14 hours\n"
     ]
    },
    {
     "name": "stdout",
     "output_type": "stream",
     "text": [
      "Epoch: 411/14999 | Loss: 0.0071 | Episodes: 27 | Win count: 32 | Win rate: 1.000 | time: 1.14 hours\n",
      "Epoch: 412/14999 | Loss: 0.0003 | Episodes: 1 | Win count: 32 | Win rate: 1.000 | time: 1.14 hours\n",
      "Epoch: 413/14999 | Loss: 0.0026 | Episodes: 16 | Win count: 32 | Win rate: 1.000 | time: 1.14 hours\n",
      "Epoch: 414/14999 | Loss: 0.0078 | Episodes: 33 | Win count: 32 | Win rate: 1.000 | time: 1.14 hours\n",
      "Epoch: 415/14999 | Loss: 0.0069 | Episodes: 18 | Win count: 32 | Win rate: 1.000 | time: 1.14 hours\n",
      "Epoch: 416/14999 | Loss: 0.0075 | Episodes: 27 | Win count: 32 | Win rate: 1.000 | time: 1.14 hours\n",
      "Epoch: 417/14999 | Loss: 0.0007 | Episodes: 2 | Win count: 32 | Win rate: 1.000 | time: 1.14 hours\n",
      "Epoch: 418/14999 | Loss: 0.0026 | Episodes: 9 | Win count: 32 | Win rate: 1.000 | time: 1.14 hours\n",
      "Epoch: 419/14999 | Loss: 0.0039 | Episodes: 20 | Win count: 32 | Win rate: 1.000 | time: 1.14 hours\n",
      "Epoch: 420/14999 | Loss: 0.0021 | Episodes: 12 | Win count: 32 | Win rate: 1.000 | time: 1.14 hours\n",
      "Epoch: 421/14999 | Loss: 0.0083 | Episodes: 29 | Win count: 32 | Win rate: 1.000 | time: 1.15 hours\n",
      "Epoch: 422/14999 | Loss: 0.0055 | Episodes: 20 | Win count: 32 | Win rate: 1.000 | time: 1.15 hours\n",
      "Epoch: 423/14999 | Loss: 0.0035 | Episodes: 17 | Win count: 32 | Win rate: 1.000 | time: 1.15 hours\n",
      "Epoch: 424/14999 | Loss: 0.0003 | Episodes: 2 | Win count: 32 | Win rate: 1.000 | time: 1.15 hours\n",
      "Epoch: 425/14999 | Loss: 0.0005 | Episodes: 3 | Win count: 32 | Win rate: 1.000 | time: 1.15 hours\n",
      "Epoch: 426/14999 | Loss: 0.0047 | Episodes: 22 | Win count: 32 | Win rate: 1.000 | time: 1.15 hours\n",
      "Epoch: 427/14999 | Loss: 0.0020 | Episodes: 19 | Win count: 32 | Win rate: 1.000 | time: 1.15 hours\n",
      "Epoch: 428/14999 | Loss: 0.0013 | Episodes: 15 | Win count: 32 | Win rate: 1.000 | time: 1.15 hours\n",
      "Epoch: 429/14999 | Loss: 0.0028 | Episodes: 21 | Win count: 32 | Win rate: 1.000 | time: 1.15 hours\n",
      "Reached 100% win rate at epoch: 429\n",
      "n_epoch: 429, max_mem: 512, data: 32, time: 1.15 hours\n"
     ]
    },
    {
     "data": {
      "text/plain": [
       "4146.614687"
      ]
     },
     "execution_count": 12,
     "metadata": {},
     "output_type": "execute_result"
    }
   ],
   "source": [
    "model = build_model(maze)\n",
    "qtrain(model, maze, epochs=1000, max_memory=8*maze.size, data_size=32)"
   ]
  },
  {
   "cell_type": "markdown",
   "metadata": {},
   "source": [
    "This cell will check to see if the model passes the completion check. Note: This could take several minutes."
   ]
  },
  {
   "cell_type": "code",
   "execution_count": 15,
   "metadata": {},
   "outputs": [
    {
     "data": {
      "text/plain": [
       "<matplotlib.image.AxesImage at 0x272c445f1c8>"
      ]
     },
     "execution_count": 15,
     "metadata": {},
     "output_type": "execute_result"
    },
    {
     "data": {
      "image/png": "[encoded data removed]",
      "text/plain": [
       "<Figure size 432x288 with 1 Axes>"
      ]
     },
     "metadata": {
      "needs_background": "light"
     },
     "output_type": "display_data"
    }
   ],
   "source": [
    "completion_check(model, qmaze)\n",
    "show(qmaze)"
   ]
  },
  {
   "cell_type": "markdown",
   "metadata": {},
   "source": [
    "This cell will test your model for one game. It will start the pirate at the top-left corner and run play_game. The agent should find a path from the starting position to the target (treasure). The treasure is located in the bottom-right corner."
   ]
  },
  {
   "cell_type": "code",
   "execution_count": 14,
   "metadata": {},
   "outputs": [
    {
     "data": {
      "text/plain": [
       "<matplotlib.image.AxesImage at 0x272c5915748>"
      ]
     },
     "execution_count": 14,
     "metadata": {},
     "output_type": "execute_result"
    },
    {
     "data": {
      "image/png": "[encoded data removed]",
      "text/plain": [
       "<Figure size 432x288 with 1 Axes>"
      ]
     },
     "metadata": {
      "needs_background": "light"
     },
     "output_type": "display_data"
    }
   ],
   "source": [
    "pirate_start = (0, 0)\n",
    "play_game(model, qmaze, pirate_start)\n",
    "show(qmaze)"
   ]
  },
  {
   "cell_type": "markdown",
   "metadata": {},
   "source": [
    "## Save and Submit Your Work\n",
    "After you have finished creating the code for your notebook, save your work. Make sure that your notebook contains your name in the filename (e.g. Doe_Jane_ProjectTwo.ipynb). This will help your instructor access and grade your work easily. Download a copy of your IPYNB file and submit it to Brightspace. Refer to the Jupyter Notebook in Apporto Tutorial if you need help with these tasks."
   ]
  }
 ],
 "metadata": {
  "kernelspec": {
   "display_name": "Python 3",
   "language": "python",
   "name": "python3"
  },
  "language_info": {
   "codemirror_mode": {
    "name": "ipython",
    "version": 3
   },
   "file_extension": ".py",
   "mimetype": "text/x-python",
   "name": "python",
   "nbconvert_exporter": "python",
   "pygments_lexer": "ipython3",
   "version": "3.7.4"
  }
 },
 "nbformat": 4,
 "nbformat_minor": 2
}
